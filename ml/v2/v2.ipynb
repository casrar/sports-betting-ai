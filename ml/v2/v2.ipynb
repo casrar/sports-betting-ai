{
 "cells": [
  {
   "cell_type": "markdown",
   "metadata": {
    "id": "FsJdp772DKKq"
   },
   "source": [
    "# Import Dependenciesg"
   ]
  },
  {
   "cell_type": "code",
   "execution_count": 1,
   "metadata": {
    "id": "PHXDsf62CjCx",
    "ExecuteTime": {
     "end_time": "2023-10-19T02:55:21.874398132Z",
     "start_time": "2023-10-19T02:55:18.496496675Z"
    }
   },
   "outputs": [
    {
     "name": "stderr",
     "output_type": "stream",
     "text": [
      "2023-10-18 22:55:18.806975: I tensorflow/tsl/cuda/cudart_stub.cc:28] Could not find cuda drivers on your machine, GPU will not be used.\n",
      "2023-10-18 22:55:18.997927: I tensorflow/tsl/cuda/cudart_stub.cc:28] Could not find cuda drivers on your machine, GPU will not be used.\n",
      "2023-10-18 22:55:18.999001: I tensorflow/core/platform/cpu_feature_guard.cc:182] This TensorFlow binary is optimized to use available CPU instructions in performance-critical operations.\n",
      "To enable the following instructions: AVX2 FMA, in other operations, rebuild TensorFlow with the appropriate compiler flags.\n",
      "2023-10-18 22:55:20.535091: W tensorflow/compiler/tf2tensorrt/utils/py_utils.cc:38] TF-TRT Warning: Could not find TensorRT\n"
     ]
    }
   ],
   "source": [
    "import os\n",
    "\n",
    "import tensorflow as tf\n",
    "import pandas as pd\n",
    "import keras"
   ]
  },
  {
   "cell_type": "code",
   "execution_count": 2,
   "metadata": {
    "colab": {
     "base_uri": "https://localhost:8080/",
     "height": 35
    },
    "id": "y5JjpgRLDP4y",
    "outputId": "89ca2f5b-c007-4532-a549-358536c54864",
    "ExecuteTime": {
     "end_time": "2023-10-19T02:55:25.973706733Z",
     "start_time": "2023-10-19T02:55:25.966525322Z"
    }
   },
   "outputs": [
    {
     "data": {
      "text/plain": "'2.13.1'"
     },
     "execution_count": 2,
     "metadata": {},
     "output_type": "execute_result"
    }
   ],
   "source": [
    "keras.__version__"
   ]
  },
  {
   "cell_type": "code",
   "execution_count": 3,
   "metadata": {
    "colab": {
     "base_uri": "https://localhost:8080/",
     "height": 35
    },
    "id": "FZntxWoaDhMF",
    "outputId": "7efbb5c5-c320-42eb-cbbc-d1d75dcf6bb8",
    "ExecuteTime": {
     "end_time": "2023-10-19T02:55:26.728097032Z",
     "start_time": "2023-10-19T02:55:26.720471403Z"
    }
   },
   "outputs": [
    {
     "data": {
      "text/plain": "'2.13.0'"
     },
     "execution_count": 3,
     "metadata": {},
     "output_type": "execute_result"
    }
   ],
   "source": [
    "tf.__version__"
   ]
  },
  {
   "cell_type": "code",
   "execution_count": 5,
   "metadata": {
    "colab": {
     "base_uri": "https://localhost:8080/"
    },
    "id": "q54GH9XulvWu",
    "outputId": "dcfc0d39-1256-490a-cdbb-72e6eabeead6",
    "ExecuteTime": {
     "end_time": "2023-10-19T02:55:33.746385607Z",
     "start_time": "2023-10-19T02:55:33.743266206Z"
    }
   },
   "outputs": [
    {
     "name": "stdout",
     "output_type": "stream",
     "text": [
      "Num GPUs Available:  0\n"
     ]
    }
   ],
   "source": [
    "print(\"Num GPUs Available: \", len(tf.config.list_physical_devices('GPU')))"
   ]
  },
  {
   "cell_type": "markdown",
   "metadata": {
    "id": "ep1KBSt1Dmci"
   },
   "source": [
    "# Read in the Data "
   ]
  },
  {
   "cell_type": "code",
   "execution_count": 6,
   "metadata": {
    "id": "BUnaJHajDkrm",
    "ExecuteTime": {
     "end_time": "2023-10-19T02:58:11.490617340Z",
     "start_time": "2023-10-19T02:57:59.290958778Z"
    }
   },
   "outputs": [],
   "source": [
    "rawData = pd.read_excel(\"Full-Data-Set-UnderOver-2020-21.xlsx\")\n",
    "rawData = rawData.sample(frac=1)"
   ]
  },
  {
   "cell_type": "code",
   "execution_count": 7,
   "metadata": {
    "colab": {
     "base_uri": "https://localhost:8080/",
     "height": 411
    },
    "id": "ks3rdgFaEFev",
    "outputId": "3ac46a3b-8a13-48cd-c507-9223d705fa8e",
    "ExecuteTime": {
     "end_time": "2023-10-19T02:58:11.683449480Z",
     "start_time": "2023-10-19T02:58:11.498702906Z"
    }
   },
   "outputs": [
    {
     "data": {
      "text/plain": "         Unnamed: 0            GP             W             L         W_PCT  \\\ncount  16358.000000  16358.000000  16358.000000  16358.000000  16358.000000   \nmean    8178.500000     42.738538     22.225883     20.512654      0.513536   \nstd     4722.292187     24.007672     15.430625     13.403097      0.183969   \nmin        0.000000      1.000000      0.000000      0.000000      0.000000   \n25%     4089.250000     22.000000     10.000000      9.000000      0.382000   \n50%     8178.500000     43.000000     19.000000     19.000000      0.520000   \n75%    12267.750000     64.000000     32.000000     29.000000      0.645000   \nmax    16357.000000     82.000000     72.000000     69.000000      1.000000   \n\n                MIN           FGM           FGA        FG_PCT          FG3M  \\\ncount  16358.000000  16358.000000  16358.000000  16358.000000  16358.000000   \nmean      48.353754     37.952763     83.493654      0.454603      8.192689   \nstd        0.325391      2.318313      3.831431      0.019487      2.528331   \nmin       48.000000     28.000000     67.300000      0.339000      0.700000   \n25%       48.100000     36.400000     80.900000      0.442000      6.300000   \n50%       48.300000     37.800000     83.400000      0.454000      7.900000   \n75%       48.500000     39.300000     86.100000      0.467000      9.900000   \nmax       55.500000     50.000000    100.000000      0.571000     20.000000   \n\n       ...    BLK_RANK.1   BLKA_RANK.1     PF_RANK.1    PFD_RANK.1  \\\ncount  ...  16358.000000  16358.000000  16358.000000  16358.000000   \nmean   ...     15.307984     15.168480     15.353344     15.477809   \nstd    ...      8.621444      8.633495      8.640666      8.612438   \nmin    ...      1.000000      1.000000      1.000000      1.000000   \n25%    ...      8.000000      8.000000      8.000000      8.000000   \n50%    ...     15.000000     15.000000     15.000000     16.000000   \n75%    ...     23.000000     23.000000     23.000000     23.000000   \nmax    ...     30.000000     30.000000     30.000000     30.000000   \n\n         PTS_RANK.1  PLUS_MINUS_RANK.1         Score  Home-Team-Win  \\\ncount  16358.000000       16358.000000  16358.000000   16358.000000   \nmean      15.275095          15.036007    204.782186       0.591148   \nstd        8.633568           8.664541     22.006642       0.491637   \nmin        1.000000           1.000000     22.000000       0.000000   \n25%        8.000000           7.000000    190.000000       0.000000   \n50%       15.000000          15.000000    204.000000       1.000000   \n75%       23.000000          22.000000    219.000000       1.000000   \nmax       30.000000          30.000000    329.000000       1.000000   \n\n                 OU      OU-Cover  \ncount  16358.000000  16358.000000  \nmean     204.598392      0.515344  \nstd       21.729718      0.526352  \nmin        1.000000      0.000000  \n25%      194.500000      0.000000  \n50%      203.500000      1.000000  \n75%      214.000000      1.000000  \nmax     1955.500000      2.000000  \n\n[8 rows x 109 columns]",
      "text/html": "<div>\n<style scoped>\n    .dataframe tbody tr th:only-of-type {\n        vertical-align: middle;\n    }\n\n    .dataframe tbody tr th {\n        vertical-align: top;\n    }\n\n    .dataframe thead th {\n        text-align: right;\n    }\n</style>\n<table border=\"1\" class=\"dataframe\">\n  <thead>\n    <tr style=\"text-align: right;\">\n      <th></th>\n      <th>Unnamed: 0</th>\n      <th>GP</th>\n      <th>W</th>\n      <th>L</th>\n      <th>W_PCT</th>\n      <th>MIN</th>\n      <th>FGM</th>\n      <th>FGA</th>\n      <th>FG_PCT</th>\n      <th>FG3M</th>\n      <th>...</th>\n      <th>BLK_RANK.1</th>\n      <th>BLKA_RANK.1</th>\n      <th>PF_RANK.1</th>\n      <th>PFD_RANK.1</th>\n      <th>PTS_RANK.1</th>\n      <th>PLUS_MINUS_RANK.1</th>\n      <th>Score</th>\n      <th>Home-Team-Win</th>\n      <th>OU</th>\n      <th>OU-Cover</th>\n    </tr>\n  </thead>\n  <tbody>\n    <tr>\n      <th>count</th>\n      <td>16358.000000</td>\n      <td>16358.000000</td>\n      <td>16358.000000</td>\n      <td>16358.000000</td>\n      <td>16358.000000</td>\n      <td>16358.000000</td>\n      <td>16358.000000</td>\n      <td>16358.000000</td>\n      <td>16358.000000</td>\n      <td>16358.000000</td>\n      <td>...</td>\n      <td>16358.000000</td>\n      <td>16358.000000</td>\n      <td>16358.000000</td>\n      <td>16358.000000</td>\n      <td>16358.000000</td>\n      <td>16358.000000</td>\n      <td>16358.000000</td>\n      <td>16358.000000</td>\n      <td>16358.000000</td>\n      <td>16358.000000</td>\n    </tr>\n    <tr>\n      <th>mean</th>\n      <td>8178.500000</td>\n      <td>42.738538</td>\n      <td>22.225883</td>\n      <td>20.512654</td>\n      <td>0.513536</td>\n      <td>48.353754</td>\n      <td>37.952763</td>\n      <td>83.493654</td>\n      <td>0.454603</td>\n      <td>8.192689</td>\n      <td>...</td>\n      <td>15.307984</td>\n      <td>15.168480</td>\n      <td>15.353344</td>\n      <td>15.477809</td>\n      <td>15.275095</td>\n      <td>15.036007</td>\n      <td>204.782186</td>\n      <td>0.591148</td>\n      <td>204.598392</td>\n      <td>0.515344</td>\n    </tr>\n    <tr>\n      <th>std</th>\n      <td>4722.292187</td>\n      <td>24.007672</td>\n      <td>15.430625</td>\n      <td>13.403097</td>\n      <td>0.183969</td>\n      <td>0.325391</td>\n      <td>2.318313</td>\n      <td>3.831431</td>\n      <td>0.019487</td>\n      <td>2.528331</td>\n      <td>...</td>\n      <td>8.621444</td>\n      <td>8.633495</td>\n      <td>8.640666</td>\n      <td>8.612438</td>\n      <td>8.633568</td>\n      <td>8.664541</td>\n      <td>22.006642</td>\n      <td>0.491637</td>\n      <td>21.729718</td>\n      <td>0.526352</td>\n    </tr>\n    <tr>\n      <th>min</th>\n      <td>0.000000</td>\n      <td>1.000000</td>\n      <td>0.000000</td>\n      <td>0.000000</td>\n      <td>0.000000</td>\n      <td>48.000000</td>\n      <td>28.000000</td>\n      <td>67.300000</td>\n      <td>0.339000</td>\n      <td>0.700000</td>\n      <td>...</td>\n      <td>1.000000</td>\n      <td>1.000000</td>\n      <td>1.000000</td>\n      <td>1.000000</td>\n      <td>1.000000</td>\n      <td>1.000000</td>\n      <td>22.000000</td>\n      <td>0.000000</td>\n      <td>1.000000</td>\n      <td>0.000000</td>\n    </tr>\n    <tr>\n      <th>25%</th>\n      <td>4089.250000</td>\n      <td>22.000000</td>\n      <td>10.000000</td>\n      <td>9.000000</td>\n      <td>0.382000</td>\n      <td>48.100000</td>\n      <td>36.400000</td>\n      <td>80.900000</td>\n      <td>0.442000</td>\n      <td>6.300000</td>\n      <td>...</td>\n      <td>8.000000</td>\n      <td>8.000000</td>\n      <td>8.000000</td>\n      <td>8.000000</td>\n      <td>8.000000</td>\n      <td>7.000000</td>\n      <td>190.000000</td>\n      <td>0.000000</td>\n      <td>194.500000</td>\n      <td>0.000000</td>\n    </tr>\n    <tr>\n      <th>50%</th>\n      <td>8178.500000</td>\n      <td>43.000000</td>\n      <td>19.000000</td>\n      <td>19.000000</td>\n      <td>0.520000</td>\n      <td>48.300000</td>\n      <td>37.800000</td>\n      <td>83.400000</td>\n      <td>0.454000</td>\n      <td>7.900000</td>\n      <td>...</td>\n      <td>15.000000</td>\n      <td>15.000000</td>\n      <td>15.000000</td>\n      <td>16.000000</td>\n      <td>15.000000</td>\n      <td>15.000000</td>\n      <td>204.000000</td>\n      <td>1.000000</td>\n      <td>203.500000</td>\n      <td>1.000000</td>\n    </tr>\n    <tr>\n      <th>75%</th>\n      <td>12267.750000</td>\n      <td>64.000000</td>\n      <td>32.000000</td>\n      <td>29.000000</td>\n      <td>0.645000</td>\n      <td>48.500000</td>\n      <td>39.300000</td>\n      <td>86.100000</td>\n      <td>0.467000</td>\n      <td>9.900000</td>\n      <td>...</td>\n      <td>23.000000</td>\n      <td>23.000000</td>\n      <td>23.000000</td>\n      <td>23.000000</td>\n      <td>23.000000</td>\n      <td>22.000000</td>\n      <td>219.000000</td>\n      <td>1.000000</td>\n      <td>214.000000</td>\n      <td>1.000000</td>\n    </tr>\n    <tr>\n      <th>max</th>\n      <td>16357.000000</td>\n      <td>82.000000</td>\n      <td>72.000000</td>\n      <td>69.000000</td>\n      <td>1.000000</td>\n      <td>55.500000</td>\n      <td>50.000000</td>\n      <td>100.000000</td>\n      <td>0.571000</td>\n      <td>20.000000</td>\n      <td>...</td>\n      <td>30.000000</td>\n      <td>30.000000</td>\n      <td>30.000000</td>\n      <td>30.000000</td>\n      <td>30.000000</td>\n      <td>30.000000</td>\n      <td>329.000000</td>\n      <td>1.000000</td>\n      <td>1955.500000</td>\n      <td>2.000000</td>\n    </tr>\n  </tbody>\n</table>\n<p>8 rows × 109 columns</p>\n</div>"
     },
     "execution_count": 7,
     "metadata": {},
     "output_type": "execute_result"
    }
   ],
   "source": [
    "rawData.describe()"
   ]
  },
  {
   "cell_type": "markdown",
   "metadata": {
    "id": "MefJrXUvHHJy"
   },
   "source": [
    "## Clean the Data"
   ]
  },
  {
   "cell_type": "code",
   "execution_count": 8,
   "metadata": {
    "id": "DQZUrgHUHA3b",
    "ExecuteTime": {
     "end_time": "2023-10-19T02:58:11.696497994Z",
     "start_time": "2023-10-19T02:58:11.638731340Z"
    }
   },
   "outputs": [],
   "source": [
    "filteredData = rawData.drop([\"Unnamed: 0\"], axis = 1)\n",
    "filteredData = filteredData.drop([\"Score\"], axis = 1)\n",
    "filteredData = filteredData.drop([\"GP\"], axis = 1)\n",
    "filteredData = filteredData.drop([\"GP.1\"], axis = 1)\n",
    "filteredData = filteredData.drop([\"Home-Team-Win\"], axis = 1)\n",
    "filteredData = filteredData.drop([\"TEAM_NAME\"], axis = 1)\n",
    "filteredData = filteredData.drop([\"Date\"], axis = 1)\n",
    "filteredData = filteredData.drop([\"MIN\", \"W\", \"W.1\", \"L\", \"L.1\", \"PLUS_MINUS\", \"PLUS_MINUS.1\", \"PLUS_MINUS_RANK\", \"PLUS_MINUS_RANK.1\", \"W_RANK\", \"W_RANK.1\", \"L_RANK\", \"L_RANK.1\"], axis = 1)\n",
    "filteredData = filteredData.drop([\"MIN.1\"], axis = 1)\n",
    "filteredData = filteredData.drop([\"MIN_RANK.1\"], axis = 1)\n",
    "filteredData = filteredData.drop([\"MIN_RANK\"], axis = 1)\n",
    "filteredData = filteredData.drop([\"TEAM_NAME.1\"], axis = 1)\n",
    "filteredData = filteredData.drop([\"Date.1\"], axis = 1)\n",
    "filteredData = filteredData.drop([\"OU\"], axis = 1)\n",
    "filteredData = filteredData.drop([\"OU-Cover\"], axis = 1)\n",
    "filteredData = filteredData.drop([\"GP_RANK\"], axis = 1)\n",
    "filteredData = filteredData.drop([\"GP_RANK.1\"], axis = 1)"
   ]
  },
  {
   "cell_type": "markdown",
   "metadata": {
    "id": "sAOvw2kOusdd"
   },
   "source": [
    "# Train the Model"
   ]
  },
  {
   "cell_type": "markdown",
   "metadata": {
    "id": "kWhlML-GeLgN"
   },
   "source": [
    "#### Get the outputs"
   ]
  },
  {
   "cell_type": "code",
   "execution_count": 9,
   "metadata": {
    "id": "NJZxoaf_ucLR",
    "ExecuteTime": {
     "end_time": "2023-10-19T02:58:11.696789654Z",
     "start_time": "2023-10-19T02:58:11.673272611Z"
    }
   },
   "outputs": [],
   "source": [
    "output = rawData['Home-Team-Win']"
   ]
  },
  {
   "cell_type": "code",
   "execution_count": 10,
   "metadata": {
    "colab": {
     "base_uri": "https://localhost:8080/"
    },
    "id": "nXBxjFR8g7V-",
    "outputId": "30d595b4-534c-466c-a80b-37fce964be85",
    "ExecuteTime": {
     "end_time": "2023-10-19T02:58:12.340459393Z",
     "start_time": "2023-10-19T02:58:11.675607122Z"
    }
   },
   "outputs": [
    {
     "name": "stdout",
     "output_type": "stream",
     "text": [
      "16358\n",
      "(13086,)\n"
     ]
    },
    {
     "ename": "KeyError",
     "evalue": "0",
     "output_type": "error",
     "traceback": [
      "\u001B[0;31m---------------------------------------------------------------------------\u001B[0m",
      "\u001B[0;31mKeyError\u001B[0m                                  Traceback (most recent call last)",
      "File \u001B[0;32m~/.projects/side/sports-betting-ai/AI/venv/lib/python3.11/site-packages/pandas/core/indexes/base.py:3653\u001B[0m, in \u001B[0;36mIndex.get_loc\u001B[0;34m(self, key)\u001B[0m\n\u001B[1;32m   3652\u001B[0m \u001B[38;5;28;01mtry\u001B[39;00m:\n\u001B[0;32m-> 3653\u001B[0m     \u001B[38;5;28;01mreturn\u001B[39;00m \u001B[38;5;28;43mself\u001B[39;49m\u001B[38;5;241;43m.\u001B[39;49m\u001B[43m_engine\u001B[49m\u001B[38;5;241;43m.\u001B[39;49m\u001B[43mget_loc\u001B[49m\u001B[43m(\u001B[49m\u001B[43mcasted_key\u001B[49m\u001B[43m)\u001B[49m\n\u001B[1;32m   3654\u001B[0m \u001B[38;5;28;01mexcept\u001B[39;00m \u001B[38;5;167;01mKeyError\u001B[39;00m \u001B[38;5;28;01mas\u001B[39;00m err:\n",
      "File \u001B[0;32m~/.projects/side/sports-betting-ai/AI/venv/lib/python3.11/site-packages/pandas/_libs/index.pyx:147\u001B[0m, in \u001B[0;36mpandas._libs.index.IndexEngine.get_loc\u001B[0;34m()\u001B[0m\n",
      "File \u001B[0;32m~/.projects/side/sports-betting-ai/AI/venv/lib/python3.11/site-packages/pandas/_libs/index.pyx:176\u001B[0m, in \u001B[0;36mpandas._libs.index.IndexEngine.get_loc\u001B[0;34m()\u001B[0m\n",
      "File \u001B[0;32mpandas/_libs/hashtable_class_helper.pxi:2606\u001B[0m, in \u001B[0;36mpandas._libs.hashtable.Int64HashTable.get_item\u001B[0;34m()\u001B[0m\n",
      "File \u001B[0;32mpandas/_libs/hashtable_class_helper.pxi:2630\u001B[0m, in \u001B[0;36mpandas._libs.hashtable.Int64HashTable.get_item\u001B[0;34m()\u001B[0m\n",
      "\u001B[0;31mKeyError\u001B[0m: 0",
      "\nThe above exception was the direct cause of the following exception:\n",
      "\u001B[0;31mKeyError\u001B[0m                                  Traceback (most recent call last)",
      "Cell \u001B[0;32mIn[10], line 9\u001B[0m\n\u001B[1;32m      7\u001B[0m y_test \u001B[38;5;241m=\u001B[39m output\u001B[38;5;241m.\u001B[39mtake(\u001B[38;5;28mrange\u001B[39m(test_len, \u001B[38;5;28mlen\u001B[39m(filteredData)))\n\u001B[1;32m      8\u001B[0m \u001B[38;5;28mprint\u001B[39m(y_train\u001B[38;5;241m.\u001B[39mshape)\n\u001B[0;32m----> 9\u001B[0m \u001B[38;5;28mprint\u001B[39m(\u001B[43my_test\u001B[49m\u001B[43m[\u001B[49m\u001B[38;5;241;43m0\u001B[39;49m\u001B[43m]\u001B[49m\u001B[38;5;241m.\u001B[39mshape)\n\u001B[1;32m     10\u001B[0m \u001B[38;5;28mprint\u001B[39m(y_test\u001B[38;5;241m.\u001B[39mshape)\n",
      "File \u001B[0;32m~/.projects/side/sports-betting-ai/AI/venv/lib/python3.11/site-packages/pandas/core/series.py:1007\u001B[0m, in \u001B[0;36mSeries.__getitem__\u001B[0;34m(self, key)\u001B[0m\n\u001B[1;32m   1004\u001B[0m     \u001B[38;5;28;01mreturn\u001B[39;00m \u001B[38;5;28mself\u001B[39m\u001B[38;5;241m.\u001B[39m_values[key]\n\u001B[1;32m   1006\u001B[0m \u001B[38;5;28;01melif\u001B[39;00m key_is_scalar:\n\u001B[0;32m-> 1007\u001B[0m     \u001B[38;5;28;01mreturn\u001B[39;00m \u001B[38;5;28;43mself\u001B[39;49m\u001B[38;5;241;43m.\u001B[39;49m\u001B[43m_get_value\u001B[49m\u001B[43m(\u001B[49m\u001B[43mkey\u001B[49m\u001B[43m)\u001B[49m\n\u001B[1;32m   1009\u001B[0m \u001B[38;5;28;01mif\u001B[39;00m is_hashable(key):\n\u001B[1;32m   1010\u001B[0m     \u001B[38;5;66;03m# Otherwise index.get_value will raise InvalidIndexError\u001B[39;00m\n\u001B[1;32m   1011\u001B[0m     \u001B[38;5;28;01mtry\u001B[39;00m:\n\u001B[1;32m   1012\u001B[0m         \u001B[38;5;66;03m# For labels that don't resolve as scalars like tuples and frozensets\u001B[39;00m\n",
      "File \u001B[0;32m~/.projects/side/sports-betting-ai/AI/venv/lib/python3.11/site-packages/pandas/core/series.py:1116\u001B[0m, in \u001B[0;36mSeries._get_value\u001B[0;34m(self, label, takeable)\u001B[0m\n\u001B[1;32m   1113\u001B[0m     \u001B[38;5;28;01mreturn\u001B[39;00m \u001B[38;5;28mself\u001B[39m\u001B[38;5;241m.\u001B[39m_values[label]\n\u001B[1;32m   1115\u001B[0m \u001B[38;5;66;03m# Similar to Index.get_value, but we do not fall back to positional\u001B[39;00m\n\u001B[0;32m-> 1116\u001B[0m loc \u001B[38;5;241m=\u001B[39m \u001B[38;5;28;43mself\u001B[39;49m\u001B[38;5;241;43m.\u001B[39;49m\u001B[43mindex\u001B[49m\u001B[38;5;241;43m.\u001B[39;49m\u001B[43mget_loc\u001B[49m\u001B[43m(\u001B[49m\u001B[43mlabel\u001B[49m\u001B[43m)\u001B[49m\n\u001B[1;32m   1118\u001B[0m \u001B[38;5;28;01mif\u001B[39;00m is_integer(loc):\n\u001B[1;32m   1119\u001B[0m     \u001B[38;5;28;01mreturn\u001B[39;00m \u001B[38;5;28mself\u001B[39m\u001B[38;5;241m.\u001B[39m_values[loc]\n",
      "File \u001B[0;32m~/.projects/side/sports-betting-ai/AI/venv/lib/python3.11/site-packages/pandas/core/indexes/base.py:3655\u001B[0m, in \u001B[0;36mIndex.get_loc\u001B[0;34m(self, key)\u001B[0m\n\u001B[1;32m   3653\u001B[0m     \u001B[38;5;28;01mreturn\u001B[39;00m \u001B[38;5;28mself\u001B[39m\u001B[38;5;241m.\u001B[39m_engine\u001B[38;5;241m.\u001B[39mget_loc(casted_key)\n\u001B[1;32m   3654\u001B[0m \u001B[38;5;28;01mexcept\u001B[39;00m \u001B[38;5;167;01mKeyError\u001B[39;00m \u001B[38;5;28;01mas\u001B[39;00m err:\n\u001B[0;32m-> 3655\u001B[0m     \u001B[38;5;28;01mraise\u001B[39;00m \u001B[38;5;167;01mKeyError\u001B[39;00m(key) \u001B[38;5;28;01mfrom\u001B[39;00m \u001B[38;5;21;01merr\u001B[39;00m\n\u001B[1;32m   3656\u001B[0m \u001B[38;5;28;01mexcept\u001B[39;00m \u001B[38;5;167;01mTypeError\u001B[39;00m:\n\u001B[1;32m   3657\u001B[0m     \u001B[38;5;66;03m# If we have a listlike key, _check_indexing_error will raise\u001B[39;00m\n\u001B[1;32m   3658\u001B[0m     \u001B[38;5;66;03m#  InvalidIndexError. Otherwise we fall through and re-raise\u001B[39;00m\n\u001B[1;32m   3659\u001B[0m     \u001B[38;5;66;03m#  the TypeError.\u001B[39;00m\n\u001B[1;32m   3660\u001B[0m     \u001B[38;5;28mself\u001B[39m\u001B[38;5;241m.\u001B[39m_check_indexing_error(key)\n",
      "\u001B[0;31mKeyError\u001B[0m: 0"
     ]
    }
   ],
   "source": [
    "#get 80% for training 20% for testing\n",
    "print(len(filteredData))\n",
    "test_len = int(len(filteredData) * 0.8)\n",
    "x_train = filteredData.take(range(test_len))\n",
    "x_test = filteredData.take(range(test_len, len(filteredData)))\n",
    "y_train = output.take(range(test_len))\n",
    "y_test = output.take(range(test_len, len(filteredData)))\n",
    "print(y_train.shape)\n",
    "print(y_test[0].shape)\n",
    "print(y_test.shape)"
   ]
  },
  {
   "cell_type": "code",
   "execution_count": null,
   "metadata": {
    "id": "lQgt1Rr2iWqZ",
    "ExecuteTime": {
     "end_time": "2023-10-19T02:58:12.341841980Z",
     "start_time": "2023-10-19T02:58:12.340860569Z"
    }
   },
   "outputs": [],
   "source": [
    "test_len = int(len(filteredData) * 0.9)\n",
    "x_train = filteredData.take(range(test_len))\n",
    "x_test = filteredData.take(range(test_len, len(filteredData)))\n",
    "y_train = output.take(range(test_len))\n",
    "y_test = output.take(range(test_len, len(filteredData)))"
   ]
  },
  {
   "cell_type": "code",
   "execution_count": null,
   "metadata": {
    "collapsed": false,
    "ExecuteTime": {
     "end_time": "2023-10-19T02:58:12.342445518Z",
     "start_time": "2023-10-19T02:58:12.342294312Z"
    }
   },
   "outputs": [],
   "source": [
    "import datetime\n",
    "%load_ext tensorboard\n",
    "log_dir = \"logs/fit/\" + datetime.datetime.now().strftime(\"%Y%m%d-%H%M%S\")\n",
    "tensorboard_callback = tf.keras.callbacks.TensorBoard(log_dir=log_dir, histogram_freq=1)\n"
   ]
  },
  {
   "cell_type": "code",
   "execution_count": null,
   "metadata": {
    "id": "rxSIiK8Dea0T",
    "ExecuteTime": {
     "start_time": "2023-10-19T02:58:12.344156363Z"
    }
   },
   "outputs": [],
   "source": [
    "model = tf.keras.models.Sequential()\n",
    "model.add(tf.keras.layers.Flatten())\n",
    "model.add(tf.keras.layers.Dense(170, activation=tf.nn.relu6))\n",
    "model.add(tf.keras.layers.Dropout(rate=.25))\n",
    "model.add(tf.keras.layers.Dense(150, activation=tf.nn.relu6))\n",
    "model.add(tf.keras.layers.Dense(75, activation=tf.nn.relu6))\n",
    "model.add(tf.keras.layers.Dropout(rate=.15))\n",
    "model.add(tf.keras.layers.Dense(30, activation=tf.nn.relu6))\n",
    "model.add(tf.keras.layers.Dense(15, activation=tf.nn.relu6))\n",
    "model.add(tf.keras.layers.Dense(2, activation=tf.nn.softmax, name=\"output_layer\"))\n"
   ]
  },
  {
   "cell_type": "code",
   "execution_count": null,
   "metadata": {
    "colab": {
     "base_uri": "https://localhost:8080/"
    },
    "id": "G98ljKwHf43I",
    "outputId": "82b68fc3-4c44-4848-b3b2-f7099a5b57fd",
    "ExecuteTime": {
     "start_time": "2023-10-19T02:58:12.345801045Z"
    }
   },
   "outputs": [],
   "source": [
    "model.build( x_train.shape )\n",
    "model.summary()"
   ]
  },
  {
   "cell_type": "code",
   "execution_count": null,
   "metadata": {
    "id": "kQWah4KxgXiD",
    "ExecuteTime": {
     "end_time": "2023-10-19T02:58:12.352566Z",
     "start_time": "2023-10-19T02:58:12.347073193Z"
    }
   },
   "outputs": [],
   "source": [
    "from keras.optimizers import Adam\n",
    "log_dir = \"logs/fit/\" + datetime.datetime.now().strftime(\"%Y%m%d-%H%M%S\")\n",
    "tensorboard_callback = tf.keras.callbacks.TensorBoard(log_dir=log_dir, histogram_freq=1)\n",
    "model.compile(Adam(learning_rate=0.0005), loss='sparse_categorical_crossentropy', metrics=['accuracy'])"
   ]
  },
  {
   "cell_type": "code",
   "execution_count": 11,
   "metadata": {
    "id": "HVaJA-BYgb8r",
    "ExecuteTime": {
     "end_time": "2023-10-19T02:58:15.703744704Z",
     "start_time": "2023-10-19T02:58:15.680939042Z"
    }
   },
   "outputs": [
    {
     "ename": "NameError",
     "evalue": "name 'model' is not defined",
     "output_type": "error",
     "traceback": [
      "\u001B[0;31m---------------------------------------------------------------------------\u001B[0m",
      "\u001B[0;31mNameError\u001B[0m                                 Traceback (most recent call last)",
      "Cell \u001B[0;32mIn[11], line 1\u001B[0m\n\u001B[0;32m----> 1\u001B[0m \u001B[43mmodel\u001B[49m\u001B[38;5;241m.\u001B[39mfit(x_train, y_train, epochs\u001B[38;5;241m=\u001B[39m\u001B[38;5;241m60\u001B[39m, validation_split\u001B[38;5;241m=\u001B[39m\u001B[38;5;241m0.30\u001B[39m, batch_size\u001B[38;5;241m=\u001B[39m\u001B[38;5;241m3_000\u001B[39m, verbose\u001B[38;5;241m=\u001B[39m\u001B[38;5;241m2\u001B[39m, shuffle\u001B[38;5;241m=\u001B[39m\u001B[38;5;28;01mTrue\u001B[39;00m, use_multiprocessing\u001B[38;5;241m=\u001B[39m\u001B[38;5;28;01mTrue\u001B[39;00m, callbacks\u001B[38;5;241m=\u001B[39m[tensorboard_callback])\n",
      "\u001B[0;31mNameError\u001B[0m: name 'model' is not defined"
     ]
    }
   ],
   "source": [
    "model.fit(x_train, y_train, epochs=60, validation_split=0.30, batch_size=3_000, verbose=2, shuffle=True, use_multiprocessing=True, callbacks=[tensorboard_callback])"
   ]
  },
  {
   "cell_type": "code",
   "execution_count": null,
   "metadata": {
    "colab": {
     "base_uri": "https://localhost:8080/"
    },
    "id": "cPaTuHBtuByU",
    "outputId": "0520a618-fc33-40a2-b80a-94ace163c9fc"
   },
   "outputs": [],
   "source": [
    "todayPredictions = model.predict([x_test])"
   ]
  },
  {
   "cell_type": "code",
   "execution_count": null,
   "metadata": {
    "collapsed": false
   },
   "outputs": [],
   "source": [
    "model = tf.keras.models.load_model(\"./trained_models/v2\")"
   ]
  },
  {
   "cell_type": "code",
   "execution_count": null,
   "metadata": {
    "collapsed": false
   },
   "outputs": [],
   "source": [
    "import os\n",
    "import numpy as np\n",
    "model_dir = \"../API/src/data\"\n",
    "for file in os.listdir(model_dir):\n",
    "    if not file.endswith(\".csv\") or not file.__contains__(\"2022\"):\n",
    "        continue\n",
    "\n",
    "    teamStats = pd.read_csv(f\"{model_dir}/{file}\")\n",
    "    filteredTeamStats = teamStats.drop([\"TEAM_NAME\", \"TEAM_ID\",\"GP\",\"GP_RANK\",\"CFID\", \"MIN\", \"CFPARAMS\", \"MIN_RANK\", \"MIN_RANK.1\"], axis = 1)\n",
    "    filteredTeamStats = filteredTeamStats.drop([\"W\",\"L\",\"PLUS_MINUS\",\"W_RANK\", \"L_RANK\", \"PLUS_MINUS_RANK\",], axis = 1)\n",
    "    filteredTeamStats = filteredTeamStats.drop([\"TEAM_NAME.1\", \"TEAM_ID.1\",\"GP.1\",\"GP_RANK.1\",\"CFID.1\", \"MIN.1\", \"CFPARAMS.1\",], axis = 1)\n",
    "    filteredTeamStats = filteredTeamStats.drop([\"W.1\",\"L.1\",\"PLUS_MINUS.1\",\"W_RANK.1\", \"L_RANK.1\", \"PLUS_MINUS_RANK.1\",], axis = 1)\n",
    "    todayPredictions = model.predict(filteredTeamStats)\n",
    "\n",
    "    print(f\"{file}\")\n",
    "    for i in range (0,len(todayPredictions)):\n",
    "        away_team_perc = todayPredictions[i][0]\n",
    "        home_team_perc = todayPredictions[i][1]\n",
    "        print(f\"{teamStats['TEAM_NAME'][i]} {home_team_perc} vs {teamStats['TEAM_NAME.1'][i]} {away_team_perc}\")\n",
    "        if np.argmax(todayPredictions[i]) == 1:\n",
    "            print(f\"{teamStats['TEAM_NAME'][i]} win\")\n",
    "        else:\n",
    "            print(f\"{teamStats['TEAM_NAME.1'][i]} win \")\n",
    "        print()\n",
    "        print()\n"
   ]
  },
  {
   "cell_type": "markdown",
   "metadata": {
    "id": "sVmwr3oOu4Fo"
   },
   "source": [
    "# Save the Model"
   ]
  },
  {
   "cell_type": "code",
   "execution_count": null,
   "metadata": {
    "collapsed": false
   },
   "outputs": [],
   "source": [
    "import datetime\n",
    "model.save(f\"model_{datetime.datetime.utcnow()}\")"
   ]
  }
 ],
 "metadata": {
  "accelerator": "GPU",
  "colab": {
   "provenance": []
  },
  "gpuClass": "standard",
  "kernelspec": {
   "display_name": "Python 3 (ipykernel)",
   "language": "python",
   "name": "python3"
  },
  "language_info": {
   "codemirror_mode": {
    "name": "ipython",
    "version": 3
   },
   "file_extension": ".py",
   "mimetype": "text/x-python",
   "name": "python",
   "nbconvert_exporter": "python",
   "pygments_lexer": "ipython3",
   "version": "3.11.3"
  },
  "vscode": {
   "interpreter": {
    "hash": "3bb68d0ea94455c6db74225640d58336d2197de5871f4cce798098ff3da94acb"
   }
  }
 },
 "nbformat": 4,
 "nbformat_minor": 4
}
